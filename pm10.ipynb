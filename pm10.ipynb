{
 "cells": [
  {
   "cell_type": "code",
   "id": "initial_id",
   "metadata": {
    "collapsed": true,
    "ExecuteTime": {
     "end_time": "2025-04-06T20:26:02.999019Z",
     "start_time": "2025-04-06T20:26:02.973763Z"
    }
   },
   "source": [
    "import pandas as pd\n",
    "\n",
    "# Load PM10 data\n",
    "pm10_2021 = pd.read_csv('PM10_2021.csv')\n",
    "\n",
    "# Convert Date column to datetime\n",
    "pm10_2021['Date'] = pd.to_datetime(pm10_2021['Date'], errors='coerce')\n",
    "\n",
    "# Drop missing values in Date or PM10\n",
    "pm10_2021 = pm10_2021.dropna(subset=['Date', 'Daily Mean PM10 Concentration'])\n",
    "\n",
    "# Clean County column\n",
    "pm10_2021['County'] = pm10_2021['County'].str.strip().str.title()\n",
    "\n",
    "# Group by County to get annual average PM10\n",
    "pm10_avg = (\n",
    "    pm10_2021.groupby('County')['Daily Mean PM10 Concentration']\n",
    "    .mean()\n",
    "    .reset_index()\n",
    "    .rename(columns={'Daily Mean PM10 Concentration': 'Avg_PM10'})\n",
    ")\n"
   ],
   "outputs": [],
   "execution_count": 10
  },
  {
   "metadata": {
    "ExecuteTime": {
     "end_time": "2025-04-06T20:26:20.462821Z",
     "start_time": "2025-04-06T20:26:20.431907Z"
    }
   },
   "cell_type": "code",
   "source": [
    "# Load TB data\n",
    "tb_2021 = pd.read_csv('2021 Illinois Tuberculosis Case Rates per 100,000 Population.csv')\n",
    "\n",
    "# Clean County column\n",
    "tb_2021['County'] = tb_2021['County'].str.strip().str.title()\n",
    "\n",
    "# Rename TB rate column\n",
    "tb_2021 = tb_2021.rename(columns={\n",
    "    'Case Rate per 100,000 Population': 'TB_Rate'\n",
    "})\n"
   ],
   "id": "fc4a246c2b80d1ad",
   "outputs": [],
   "execution_count": 11
  },
  {
   "metadata": {
    "ExecuteTime": {
     "end_time": "2025-04-06T20:26:42.456677Z",
     "start_time": "2025-04-06T20:26:42.447656Z"
    }
   },
   "cell_type": "code",
   "source": [
    "print(\"PM10 Counties:\\n\", sorted(pm10_avg['County'].unique()))\n",
    "print(\"\\nTB Counties:\\n\", sorted(tb_2021['County'].unique()))\n"
   ],
   "id": "c6057bf208f21aa1",
   "outputs": [
    {
     "name": "stdout",
     "output_type": "stream",
     "text": [
      "PM10 Counties:\n",
      " ['Cook', 'Madison']\n",
      "\n",
      "TB Counties:\n",
      " ['Adams', 'Alexander', 'Bond', 'Boone', 'Brown', 'Bureau', 'Calhoun', 'Carroll', 'Cass', 'Champaign', 'Chicago', 'Christian', 'Clark', 'Clay', 'Clinton', 'Coles', 'Cook', 'Crawford', 'Cumberland', 'De Witt', 'Dekalb', 'Douglas', 'Dupage', 'Edgar', 'Edwards', 'Effingham', 'Fayette', 'Ford', 'Franklin', 'Fulton', 'Gallatin', 'Greene', 'Grundy', 'Hamilton', 'Hancock', 'Hardin', 'Henderson', 'Henry', 'Iroquois', 'Jackson', 'Jasper', 'Jefferson', 'Jersey', 'Jo Daviess', 'Johnson', 'Kane', 'Kankakee', 'Kendall', 'Knox', 'Lake', 'Lasalle', 'Lawrence', 'Lee', 'Livingston', 'Logan', 'Macon', 'Macoupin', 'Madison', 'Marion', 'Marshall', 'Mason', 'Massac', 'Mcdonough', 'Mchenry', 'Mclean', 'Menard', 'Mercer', 'Monroe', 'Montgomery', 'Morgan', 'Moultrie', 'Ogle', 'Peoria', 'Perry', 'Piatt', 'Pike', 'Pope', 'Pulaski', 'Putnam', 'Randolph', 'Richland', 'Rock Island', 'Saline', 'Sangamon', 'Schuyler', 'Scott', 'Shelby', 'St. Clair', 'Stark', 'Stephenson', 'Tazewell', 'Union', 'Vermilion', 'Wabash', 'Warren', 'Washington', 'Wayne', 'White', 'Whiteside', 'Will', 'Williamson', 'Winnebago', 'Woodford']\n"
     ]
    }
   ],
   "execution_count": 13
  }
 ],
 "metadata": {
  "kernelspec": {
   "display_name": "Python 3",
   "language": "python",
   "name": "python3"
  },
  "language_info": {
   "codemirror_mode": {
    "name": "ipython",
    "version": 2
   },
   "file_extension": ".py",
   "mimetype": "text/x-python",
   "name": "python",
   "nbconvert_exporter": "python",
   "pygments_lexer": "ipython2",
   "version": "2.7.6"
  }
 },
 "nbformat": 4,
 "nbformat_minor": 5
}
